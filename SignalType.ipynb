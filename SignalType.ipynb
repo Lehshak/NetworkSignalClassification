{
 "cells": [
  {
   "cell_type": "code",
   "execution_count": 38,
   "id": "a6304996-42c5-400f-a82a-457f5ccffa12",
   "metadata": {},
   "outputs": [],
   "source": [
    "import pandas as pd\n",
    "import numpy as np\n",
    "import tensorflow as tf\n",
    "from sklearn.model_selection import train_test_split\n",
    "from sklearn.preprocessing import StandardScaler, OneHotEncoder\n",
    "from sklearn.metrics import classification_report"
   ]
  },
  {
   "cell_type": "code",
   "execution_count": 39,
   "id": "8487b364-69cc-40f7-95a4-d00c8eae6321",
   "metadata": {},
   "outputs": [],
   "source": [
    "signal_data = pd.read_csv(\"signal_metrics.csv\")"
   ]
  },
  {
   "cell_type": "code",
   "execution_count": 40,
   "id": "50b95ddc-38ac-4688-93aa-0d2e198b79b0",
   "metadata": {},
   "outputs": [
    {
     "data": {
      "text/html": [
       "<div>\n",
       "<style scoped>\n",
       "    .dataframe tbody tr th:only-of-type {\n",
       "        vertical-align: middle;\n",
       "    }\n",
       "\n",
       "    .dataframe tbody tr th {\n",
       "        vertical-align: top;\n",
       "    }\n",
       "\n",
       "    .dataframe thead th {\n",
       "        text-align: right;\n",
       "    }\n",
       "</style>\n",
       "<table border=\"1\" class=\"dataframe\">\n",
       "  <thead>\n",
       "    <tr style=\"text-align: right;\">\n",
       "      <th></th>\n",
       "      <th>Timestamp</th>\n",
       "      <th>Locality</th>\n",
       "      <th>Latitude</th>\n",
       "      <th>Longitude</th>\n",
       "      <th>Signal Strength (dBm)</th>\n",
       "      <th>Signal Quality (%)</th>\n",
       "      <th>Data Throughput (Mbps)</th>\n",
       "      <th>Latency (ms)</th>\n",
       "      <th>Network Type</th>\n",
       "      <th>BB60C Measurement (dBm)</th>\n",
       "      <th>srsRAN Measurement (dBm)</th>\n",
       "      <th>BladeRFxA9 Measurement (dBm)</th>\n",
       "    </tr>\n",
       "  </thead>\n",
       "  <tbody>\n",
       "    <tr>\n",
       "      <th>0</th>\n",
       "      <td>2023-05-05 12:50:40.000000</td>\n",
       "      <td>Anisabad</td>\n",
       "      <td>25.599109</td>\n",
       "      <td>85.137355</td>\n",
       "      <td>-84.274113</td>\n",
       "      <td>0.0</td>\n",
       "      <td>1.863890</td>\n",
       "      <td>129.122914</td>\n",
       "      <td>3G</td>\n",
       "      <td>0.000000</td>\n",
       "      <td>0.000000</td>\n",
       "      <td>0.000000</td>\n",
       "    </tr>\n",
       "    <tr>\n",
       "      <th>1</th>\n",
       "      <td>2023-05-05 12:53:47.210173</td>\n",
       "      <td>Fraser Road</td>\n",
       "      <td>25.433286</td>\n",
       "      <td>85.070053</td>\n",
       "      <td>-97.653121</td>\n",
       "      <td>0.0</td>\n",
       "      <td>5.132296</td>\n",
       "      <td>54.883606</td>\n",
       "      <td>4G</td>\n",
       "      <td>-95.810791</td>\n",
       "      <td>-105.452359</td>\n",
       "      <td>-99.920892</td>\n",
       "    </tr>\n",
       "    <tr>\n",
       "      <th>2</th>\n",
       "      <td>2023-05-05 12:56:54.420346</td>\n",
       "      <td>Boring Canal Road</td>\n",
       "      <td>25.498809</td>\n",
       "      <td>85.211371</td>\n",
       "      <td>-87.046134</td>\n",
       "      <td>0.0</td>\n",
       "      <td>1.176985</td>\n",
       "      <td>119.598286</td>\n",
       "      <td>LTE</td>\n",
       "      <td>-91.593861</td>\n",
       "      <td>-95.419482</td>\n",
       "      <td>-87.714070</td>\n",
       "    </tr>\n",
       "    <tr>\n",
       "      <th>3</th>\n",
       "      <td>2023-05-05 13:00:01.630519</td>\n",
       "      <td>Danapur</td>\n",
       "      <td>25.735138</td>\n",
       "      <td>85.208400</td>\n",
       "      <td>-94.143159</td>\n",
       "      <td>0.0</td>\n",
       "      <td>68.596932</td>\n",
       "      <td>46.598387</td>\n",
       "      <td>5G</td>\n",
       "      <td>-90.642773</td>\n",
       "      <td>-101.895905</td>\n",
       "      <td>-96.570698</td>\n",
       "    </tr>\n",
       "    <tr>\n",
       "      <th>4</th>\n",
       "      <td>2023-05-05 13:03:08.840692</td>\n",
       "      <td>Phulwari Sharif</td>\n",
       "      <td>25.538556</td>\n",
       "      <td>85.159860</td>\n",
       "      <td>-94.564765</td>\n",
       "      <td>0.0</td>\n",
       "      <td>38.292038</td>\n",
       "      <td>30.342828</td>\n",
       "      <td>5G</td>\n",
       "      <td>-90.489100</td>\n",
       "      <td>-103.318304</td>\n",
       "      <td>-95.102467</td>\n",
       "    </tr>\n",
       "    <tr>\n",
       "      <th>...</th>\n",
       "      <td>...</td>\n",
       "      <td>...</td>\n",
       "      <td>...</td>\n",
       "      <td>...</td>\n",
       "      <td>...</td>\n",
       "      <td>...</td>\n",
       "      <td>...</td>\n",
       "      <td>...</td>\n",
       "      <td>...</td>\n",
       "      <td>...</td>\n",
       "      <td>...</td>\n",
       "      <td>...</td>\n",
       "    </tr>\n",
       "    <tr>\n",
       "      <th>16824</th>\n",
       "      <td>2023-06-10 23:44:23.950552</td>\n",
       "      <td>Pataliputra</td>\n",
       "      <td>25.542846</td>\n",
       "      <td>85.129611</td>\n",
       "      <td>-92.024221</td>\n",
       "      <td>0.0</td>\n",
       "      <td>3.720856</td>\n",
       "      <td>53.376474</td>\n",
       "      <td>4G</td>\n",
       "      <td>-90.177947</td>\n",
       "      <td>-97.971619</td>\n",
       "      <td>-93.362041</td>\n",
       "    </tr>\n",
       "    <tr>\n",
       "      <th>16825</th>\n",
       "      <td>2023-06-10 23:47:31.160725</td>\n",
       "      <td>Boring Canal Road</td>\n",
       "      <td>25.724624</td>\n",
       "      <td>85.233365</td>\n",
       "      <td>-87.579509</td>\n",
       "      <td>0.0</td>\n",
       "      <td>2.117080</td>\n",
       "      <td>134.458401</td>\n",
       "      <td>LTE</td>\n",
       "      <td>-87.694985</td>\n",
       "      <td>-92.616868</td>\n",
       "      <td>-84.749607</td>\n",
       "    </tr>\n",
       "    <tr>\n",
       "      <th>16826</th>\n",
       "      <td>2023-06-10 23:50:38.370898</td>\n",
       "      <td>Boring Road</td>\n",
       "      <td>25.574020</td>\n",
       "      <td>85.030036</td>\n",
       "      <td>-90.451396</td>\n",
       "      <td>0.0</td>\n",
       "      <td>72.870842</td>\n",
       "      <td>32.556578</td>\n",
       "      <td>5G</td>\n",
       "      <td>-91.098875</td>\n",
       "      <td>-97.447725</td>\n",
       "      <td>-87.752628</td>\n",
       "    </tr>\n",
       "    <tr>\n",
       "      <th>16827</th>\n",
       "      <td>2023-06-10 23:53:45.581071</td>\n",
       "      <td>Boring Road</td>\n",
       "      <td>25.619325</td>\n",
       "      <td>85.183155</td>\n",
       "      <td>-85.661814</td>\n",
       "      <td>0.0</td>\n",
       "      <td>2.482843</td>\n",
       "      <td>144.007572</td>\n",
       "      <td>3G</td>\n",
       "      <td>0.000000</td>\n",
       "      <td>0.000000</td>\n",
       "      <td>0.000000</td>\n",
       "    </tr>\n",
       "    <tr>\n",
       "      <th>16828</th>\n",
       "      <td>2023-06-10 23:56:52.791244</td>\n",
       "      <td>Rajendra Nagar</td>\n",
       "      <td>25.682516</td>\n",
       "      <td>85.264655</td>\n",
       "      <td>-93.228967</td>\n",
       "      <td>0.0</td>\n",
       "      <td>1.638291</td>\n",
       "      <td>123.234570</td>\n",
       "      <td>LTE</td>\n",
       "      <td>-95.598301</td>\n",
       "      <td>-99.438645</td>\n",
       "      <td>-94.268015</td>\n",
       "    </tr>\n",
       "  </tbody>\n",
       "</table>\n",
       "<p>16829 rows × 12 columns</p>\n",
       "</div>"
      ],
      "text/plain": [
       "                        Timestamp           Locality   Latitude  Longitude  \\\n",
       "0      2023-05-05 12:50:40.000000           Anisabad  25.599109  85.137355   \n",
       "1      2023-05-05 12:53:47.210173        Fraser Road  25.433286  85.070053   \n",
       "2      2023-05-05 12:56:54.420346  Boring Canal Road  25.498809  85.211371   \n",
       "3      2023-05-05 13:00:01.630519            Danapur  25.735138  85.208400   \n",
       "4      2023-05-05 13:03:08.840692    Phulwari Sharif  25.538556  85.159860   \n",
       "...                           ...                ...        ...        ...   \n",
       "16824  2023-06-10 23:44:23.950552        Pataliputra  25.542846  85.129611   \n",
       "16825  2023-06-10 23:47:31.160725  Boring Canal Road  25.724624  85.233365   \n",
       "16826  2023-06-10 23:50:38.370898        Boring Road  25.574020  85.030036   \n",
       "16827  2023-06-10 23:53:45.581071        Boring Road  25.619325  85.183155   \n",
       "16828  2023-06-10 23:56:52.791244     Rajendra Nagar  25.682516  85.264655   \n",
       "\n",
       "       Signal Strength (dBm)  Signal Quality (%)  Data Throughput (Mbps)  \\\n",
       "0                 -84.274113                 0.0                1.863890   \n",
       "1                 -97.653121                 0.0                5.132296   \n",
       "2                 -87.046134                 0.0                1.176985   \n",
       "3                 -94.143159                 0.0               68.596932   \n",
       "4                 -94.564765                 0.0               38.292038   \n",
       "...                      ...                 ...                     ...   \n",
       "16824             -92.024221                 0.0                3.720856   \n",
       "16825             -87.579509                 0.0                2.117080   \n",
       "16826             -90.451396                 0.0               72.870842   \n",
       "16827             -85.661814                 0.0                2.482843   \n",
       "16828             -93.228967                 0.0                1.638291   \n",
       "\n",
       "       Latency (ms) Network Type  BB60C Measurement (dBm)  \\\n",
       "0        129.122914           3G                 0.000000   \n",
       "1         54.883606           4G               -95.810791   \n",
       "2        119.598286          LTE               -91.593861   \n",
       "3         46.598387           5G               -90.642773   \n",
       "4         30.342828           5G               -90.489100   \n",
       "...             ...          ...                      ...   \n",
       "16824     53.376474           4G               -90.177947   \n",
       "16825    134.458401          LTE               -87.694985   \n",
       "16826     32.556578           5G               -91.098875   \n",
       "16827    144.007572           3G                 0.000000   \n",
       "16828    123.234570          LTE               -95.598301   \n",
       "\n",
       "       srsRAN Measurement (dBm)  BladeRFxA9 Measurement (dBm)  \n",
       "0                      0.000000                      0.000000  \n",
       "1                   -105.452359                    -99.920892  \n",
       "2                    -95.419482                    -87.714070  \n",
       "3                   -101.895905                    -96.570698  \n",
       "4                   -103.318304                    -95.102467  \n",
       "...                         ...                           ...  \n",
       "16824                -97.971619                    -93.362041  \n",
       "16825                -92.616868                    -84.749607  \n",
       "16826                -97.447725                    -87.752628  \n",
       "16827                  0.000000                      0.000000  \n",
       "16828                -99.438645                    -94.268015  \n",
       "\n",
       "[16829 rows x 12 columns]"
      ]
     },
     "execution_count": 40,
     "metadata": {},
     "output_type": "execute_result"
    }
   ],
   "source": [
    "signal_data"
   ]
  },
  {
   "cell_type": "code",
   "execution_count": 41,
   "id": "d29dac05-26f1-42bc-98aa-1429230c1c38",
   "metadata": {},
   "outputs": [
    {
     "data": {
      "text/html": [
       "<div>\n",
       "<style scoped>\n",
       "    .dataframe tbody tr th:only-of-type {\n",
       "        vertical-align: middle;\n",
       "    }\n",
       "\n",
       "    .dataframe tbody tr th {\n",
       "        vertical-align: top;\n",
       "    }\n",
       "\n",
       "    .dataframe thead th {\n",
       "        text-align: right;\n",
       "    }\n",
       "</style>\n",
       "<table border=\"1\" class=\"dataframe\">\n",
       "  <thead>\n",
       "    <tr style=\"text-align: right;\">\n",
       "      <th></th>\n",
       "      <th>Latitude</th>\n",
       "      <th>Longitude</th>\n",
       "      <th>Signal Strength (dBm)</th>\n",
       "      <th>Signal Quality (%)</th>\n",
       "      <th>Data Throughput (Mbps)</th>\n",
       "      <th>Latency (ms)</th>\n",
       "      <th>Network Type</th>\n",
       "      <th>BB60C Measurement (dBm)</th>\n",
       "      <th>srsRAN Measurement (dBm)</th>\n",
       "      <th>BladeRFxA9 Measurement (dBm)</th>\n",
       "    </tr>\n",
       "  </thead>\n",
       "  <tbody>\n",
       "    <tr>\n",
       "      <th>0</th>\n",
       "      <td>25.599109</td>\n",
       "      <td>85.137355</td>\n",
       "      <td>-84.274113</td>\n",
       "      <td>0.0</td>\n",
       "      <td>1.863890</td>\n",
       "      <td>129.122914</td>\n",
       "      <td>3G</td>\n",
       "      <td>0.000000</td>\n",
       "      <td>0.000000</td>\n",
       "      <td>0.000000</td>\n",
       "    </tr>\n",
       "    <tr>\n",
       "      <th>1</th>\n",
       "      <td>25.433286</td>\n",
       "      <td>85.070053</td>\n",
       "      <td>-97.653121</td>\n",
       "      <td>0.0</td>\n",
       "      <td>5.132296</td>\n",
       "      <td>54.883606</td>\n",
       "      <td>4G</td>\n",
       "      <td>-95.810791</td>\n",
       "      <td>-105.452359</td>\n",
       "      <td>-99.920892</td>\n",
       "    </tr>\n",
       "    <tr>\n",
       "      <th>2</th>\n",
       "      <td>25.498809</td>\n",
       "      <td>85.211371</td>\n",
       "      <td>-87.046134</td>\n",
       "      <td>0.0</td>\n",
       "      <td>1.176985</td>\n",
       "      <td>119.598286</td>\n",
       "      <td>LTE</td>\n",
       "      <td>-91.593861</td>\n",
       "      <td>-95.419482</td>\n",
       "      <td>-87.714070</td>\n",
       "    </tr>\n",
       "    <tr>\n",
       "      <th>3</th>\n",
       "      <td>25.735138</td>\n",
       "      <td>85.208400</td>\n",
       "      <td>-94.143159</td>\n",
       "      <td>0.0</td>\n",
       "      <td>68.596932</td>\n",
       "      <td>46.598387</td>\n",
       "      <td>5G</td>\n",
       "      <td>-90.642773</td>\n",
       "      <td>-101.895905</td>\n",
       "      <td>-96.570698</td>\n",
       "    </tr>\n",
       "    <tr>\n",
       "      <th>4</th>\n",
       "      <td>25.538556</td>\n",
       "      <td>85.159860</td>\n",
       "      <td>-94.564765</td>\n",
       "      <td>0.0</td>\n",
       "      <td>38.292038</td>\n",
       "      <td>30.342828</td>\n",
       "      <td>5G</td>\n",
       "      <td>-90.489100</td>\n",
       "      <td>-103.318304</td>\n",
       "      <td>-95.102467</td>\n",
       "    </tr>\n",
       "    <tr>\n",
       "      <th>...</th>\n",
       "      <td>...</td>\n",
       "      <td>...</td>\n",
       "      <td>...</td>\n",
       "      <td>...</td>\n",
       "      <td>...</td>\n",
       "      <td>...</td>\n",
       "      <td>...</td>\n",
       "      <td>...</td>\n",
       "      <td>...</td>\n",
       "      <td>...</td>\n",
       "    </tr>\n",
       "    <tr>\n",
       "      <th>16824</th>\n",
       "      <td>25.542846</td>\n",
       "      <td>85.129611</td>\n",
       "      <td>-92.024221</td>\n",
       "      <td>0.0</td>\n",
       "      <td>3.720856</td>\n",
       "      <td>53.376474</td>\n",
       "      <td>4G</td>\n",
       "      <td>-90.177947</td>\n",
       "      <td>-97.971619</td>\n",
       "      <td>-93.362041</td>\n",
       "    </tr>\n",
       "    <tr>\n",
       "      <th>16825</th>\n",
       "      <td>25.724624</td>\n",
       "      <td>85.233365</td>\n",
       "      <td>-87.579509</td>\n",
       "      <td>0.0</td>\n",
       "      <td>2.117080</td>\n",
       "      <td>134.458401</td>\n",
       "      <td>LTE</td>\n",
       "      <td>-87.694985</td>\n",
       "      <td>-92.616868</td>\n",
       "      <td>-84.749607</td>\n",
       "    </tr>\n",
       "    <tr>\n",
       "      <th>16826</th>\n",
       "      <td>25.574020</td>\n",
       "      <td>85.030036</td>\n",
       "      <td>-90.451396</td>\n",
       "      <td>0.0</td>\n",
       "      <td>72.870842</td>\n",
       "      <td>32.556578</td>\n",
       "      <td>5G</td>\n",
       "      <td>-91.098875</td>\n",
       "      <td>-97.447725</td>\n",
       "      <td>-87.752628</td>\n",
       "    </tr>\n",
       "    <tr>\n",
       "      <th>16827</th>\n",
       "      <td>25.619325</td>\n",
       "      <td>85.183155</td>\n",
       "      <td>-85.661814</td>\n",
       "      <td>0.0</td>\n",
       "      <td>2.482843</td>\n",
       "      <td>144.007572</td>\n",
       "      <td>3G</td>\n",
       "      <td>0.000000</td>\n",
       "      <td>0.000000</td>\n",
       "      <td>0.000000</td>\n",
       "    </tr>\n",
       "    <tr>\n",
       "      <th>16828</th>\n",
       "      <td>25.682516</td>\n",
       "      <td>85.264655</td>\n",
       "      <td>-93.228967</td>\n",
       "      <td>0.0</td>\n",
       "      <td>1.638291</td>\n",
       "      <td>123.234570</td>\n",
       "      <td>LTE</td>\n",
       "      <td>-95.598301</td>\n",
       "      <td>-99.438645</td>\n",
       "      <td>-94.268015</td>\n",
       "    </tr>\n",
       "  </tbody>\n",
       "</table>\n",
       "<p>16829 rows × 10 columns</p>\n",
       "</div>"
      ],
      "text/plain": [
       "        Latitude  Longitude  Signal Strength (dBm)  Signal Quality (%)  \\\n",
       "0      25.599109  85.137355             -84.274113                 0.0   \n",
       "1      25.433286  85.070053             -97.653121                 0.0   \n",
       "2      25.498809  85.211371             -87.046134                 0.0   \n",
       "3      25.735138  85.208400             -94.143159                 0.0   \n",
       "4      25.538556  85.159860             -94.564765                 0.0   \n",
       "...          ...        ...                    ...                 ...   \n",
       "16824  25.542846  85.129611             -92.024221                 0.0   \n",
       "16825  25.724624  85.233365             -87.579509                 0.0   \n",
       "16826  25.574020  85.030036             -90.451396                 0.0   \n",
       "16827  25.619325  85.183155             -85.661814                 0.0   \n",
       "16828  25.682516  85.264655             -93.228967                 0.0   \n",
       "\n",
       "       Data Throughput (Mbps)  Latency (ms) Network Type  \\\n",
       "0                    1.863890    129.122914           3G   \n",
       "1                    5.132296     54.883606           4G   \n",
       "2                    1.176985    119.598286          LTE   \n",
       "3                   68.596932     46.598387           5G   \n",
       "4                   38.292038     30.342828           5G   \n",
       "...                       ...           ...          ...   \n",
       "16824                3.720856     53.376474           4G   \n",
       "16825                2.117080    134.458401          LTE   \n",
       "16826               72.870842     32.556578           5G   \n",
       "16827                2.482843    144.007572           3G   \n",
       "16828                1.638291    123.234570          LTE   \n",
       "\n",
       "       BB60C Measurement (dBm)  srsRAN Measurement (dBm)  \\\n",
       "0                     0.000000                  0.000000   \n",
       "1                   -95.810791               -105.452359   \n",
       "2                   -91.593861                -95.419482   \n",
       "3                   -90.642773               -101.895905   \n",
       "4                   -90.489100               -103.318304   \n",
       "...                        ...                       ...   \n",
       "16824               -90.177947                -97.971619   \n",
       "16825               -87.694985                -92.616868   \n",
       "16826               -91.098875                -97.447725   \n",
       "16827                 0.000000                  0.000000   \n",
       "16828               -95.598301                -99.438645   \n",
       "\n",
       "       BladeRFxA9 Measurement (dBm)  \n",
       "0                          0.000000  \n",
       "1                        -99.920892  \n",
       "2                        -87.714070  \n",
       "3                        -96.570698  \n",
       "4                        -95.102467  \n",
       "...                             ...  \n",
       "16824                    -93.362041  \n",
       "16825                    -84.749607  \n",
       "16826                    -87.752628  \n",
       "16827                      0.000000  \n",
       "16828                    -94.268015  \n",
       "\n",
       "[16829 rows x 10 columns]"
      ]
     },
     "execution_count": 41,
     "metadata": {},
     "output_type": "execute_result"
    }
   ],
   "source": [
    "sig_data"
   ]
  },
  {
   "cell_type": "code",
   "execution_count": 60,
   "id": "24dcbce3-e6f5-4259-bb12-530f1c299bb0",
   "metadata": {},
   "outputs": [
    {
     "data": {
      "text/html": [
       "<div>\n",
       "<style scoped>\n",
       "    .dataframe tbody tr th:only-of-type {\n",
       "        vertical-align: middle;\n",
       "    }\n",
       "\n",
       "    .dataframe tbody tr th {\n",
       "        vertical-align: top;\n",
       "    }\n",
       "\n",
       "    .dataframe thead th {\n",
       "        text-align: right;\n",
       "    }\n",
       "</style>\n",
       "<table border=\"1\" class=\"dataframe\">\n",
       "  <thead>\n",
       "    <tr style=\"text-align: right;\">\n",
       "      <th></th>\n",
       "      <th>Network Type</th>\n",
       "    </tr>\n",
       "  </thead>\n",
       "  <tbody>\n",
       "    <tr>\n",
       "      <th>0</th>\n",
       "      <td>3G</td>\n",
       "    </tr>\n",
       "    <tr>\n",
       "      <th>1</th>\n",
       "      <td>4G</td>\n",
       "    </tr>\n",
       "    <tr>\n",
       "      <th>2</th>\n",
       "      <td>LTE</td>\n",
       "    </tr>\n",
       "    <tr>\n",
       "      <th>3</th>\n",
       "      <td>5G</td>\n",
       "    </tr>\n",
       "    <tr>\n",
       "      <th>4</th>\n",
       "      <td>5G</td>\n",
       "    </tr>\n",
       "    <tr>\n",
       "      <th>...</th>\n",
       "      <td>...</td>\n",
       "    </tr>\n",
       "    <tr>\n",
       "      <th>16824</th>\n",
       "      <td>4G</td>\n",
       "    </tr>\n",
       "    <tr>\n",
       "      <th>16825</th>\n",
       "      <td>LTE</td>\n",
       "    </tr>\n",
       "    <tr>\n",
       "      <th>16826</th>\n",
       "      <td>5G</td>\n",
       "    </tr>\n",
       "    <tr>\n",
       "      <th>16827</th>\n",
       "      <td>3G</td>\n",
       "    </tr>\n",
       "    <tr>\n",
       "      <th>16828</th>\n",
       "      <td>LTE</td>\n",
       "    </tr>\n",
       "  </tbody>\n",
       "</table>\n",
       "<p>16829 rows × 1 columns</p>\n",
       "</div>"
      ],
      "text/plain": [
       "      Network Type\n",
       "0               3G\n",
       "1               4G\n",
       "2              LTE\n",
       "3               5G\n",
       "4               5G\n",
       "...            ...\n",
       "16824           4G\n",
       "16825          LTE\n",
       "16826           5G\n",
       "16827           3G\n",
       "16828          LTE\n",
       "\n",
       "[16829 rows x 1 columns]"
      ]
     },
     "execution_count": 60,
     "metadata": {},
     "output_type": "execute_result"
    }
   ],
   "source": [
    "sig_data[[\"Network Type\"]]"
   ]
  },
  {
   "cell_type": "code",
   "execution_count": 50,
   "id": "7f6057f9-6b1f-412f-8faa-4cc865515743",
   "metadata": {},
   "outputs": [
    {
     "name": "stderr",
     "output_type": "stream",
     "text": [
      "/opt/anaconda3/lib/python3.11/site-packages/sklearn/preprocessing/_encoders.py:868: FutureWarning: `sparse` was renamed to `sparse_output` in version 1.2 and will be removed in 1.4. `sparse_output` is ignored unless you leave `sparse` to its default value.\n",
      "  warnings.warn(\n"
     ]
    }
   ],
   "source": [
    "#encoder for the network types (because we need to turn them into numbers for the model)\n",
    "encoder = OneHotEncoder(sparse=False)\n",
    "encoded_network_type = encoder.fit_transform(sig_data[[\"Network Type\"]])"
   ]
  },
  {
   "cell_type": "code",
   "execution_count": 71,
   "id": "80d1cca4-8d10-4d50-b233-323c376fadc2",
   "metadata": {},
   "outputs": [],
   "source": [
    "X = sig_data.drop(columns=[\"Network Type\"]).values\n",
    "y = encoded_network_type"
   ]
  },
  {
   "cell_type": "code",
   "execution_count": null,
   "id": "298997f7-3b38-4264-baf0-c08bb551fed8",
   "metadata": {},
   "outputs": [],
   "source": []
  },
  {
   "cell_type": "code",
   "execution_count": 87,
   "id": "2e5fbf20-7ab1-4da0-98ee-eea4df947396",
   "metadata": {},
   "outputs": [],
   "source": [
    "#now we have to normalize the values to improve the model training\n",
    "X_scaled = StandardScaler().fit_transform(X)"
   ]
  },
  {
   "cell_type": "code",
   "execution_count": 92,
   "id": "b4d31cd6-413c-4168-8bc2-fff44e8b9669",
   "metadata": {},
   "outputs": [],
   "source": [
    "X_train, X_test, y_train, y_test =  train_test_split(X_scaled, y, test_size=0.2, random_state=42)"
   ]
  },
  {
   "cell_type": "code",
   "execution_count": null,
   "id": "33dea71d-07e7-4f05-8f25-446bd30bd438",
   "metadata": {},
   "outputs": [],
   "source": []
  },
  {
   "cell_type": "code",
   "execution_count": 108,
   "id": "3458cf3f-eaa1-407d-b618-677df4167339",
   "metadata": {},
   "outputs": [
    {
     "data": {
      "text/plain": [
       "9"
      ]
     },
     "execution_count": 108,
     "metadata": {},
     "output_type": "execute_result"
    }
   ],
   "source": [
    "#now we have our training and test values\n",
    "X_train.shape[1]\n",
    "#this is the amount of values taken in by the input"
   ]
  },
  {
   "cell_type": "code",
   "execution_count": 112,
   "id": "3237e165-7c27-41ba-b2fd-95fba815fa31",
   "metadata": {},
   "outputs": [],
   "source": [
    "model = tf.keras.Sequential([\n",
    "    tf.keras.layers.Input(shape=(X_train.shape[1],)),\n",
    "    tf.keras.layers.Dense(128, activation='relu'),\n",
    "    tf.keras.layers.Dense(64, activation='relu'),\n",
    "    tf.keras.layers.Dense(y_train.shape[1], activation='softmax') \n",
    "    #softmax is used here because we have multiple different networks to predict\n",
    "\n",
    "])"
   ]
  },
  {
   "cell_type": "code",
   "execution_count": 120,
   "id": "e73c97f1-93af-4c9b-9b5b-be45a538b2f7",
   "metadata": {},
   "outputs": [],
   "source": [
    "model.compile(optimizer=\"adam\", loss=\"categorical_crossentropy\", metrics=[\"accuracy\"])"
   ]
  },
  {
   "cell_type": "code",
   "execution_count": 122,
   "id": "27354d42-2b8f-41cd-ba84-de8b4befd444",
   "metadata": {},
   "outputs": [
    {
     "name": "stdout",
     "output_type": "stream",
     "text": [
      "Epoch 1/50\n",
      "\u001b[1m337/337\u001b[0m \u001b[32m━━━━━━━━━━━━━━━━━━━━\u001b[0m\u001b[37m\u001b[0m \u001b[1m1s\u001b[0m 696us/step - accuracy: 0.9052 - loss: 0.3870 - val_accuracy: 0.9933 - val_loss: 0.0260\n",
      "Epoch 2/50\n",
      "\u001b[1m337/337\u001b[0m \u001b[32m━━━━━━━━━━━━━━━━━━━━\u001b[0m\u001b[37m\u001b[0m \u001b[1m0s\u001b[0m 500us/step - accuracy: 0.9967 - loss: 0.0187 - val_accuracy: 0.9985 - val_loss: 0.0115\n",
      "Epoch 3/50\n",
      "\u001b[1m337/337\u001b[0m \u001b[32m━━━━━━━━━━━━━━━━━━━━\u001b[0m\u001b[37m\u001b[0m \u001b[1m0s\u001b[0m 511us/step - accuracy: 0.9973 - loss: 0.0102 - val_accuracy: 0.9993 - val_loss: 0.0068\n",
      "Epoch 4/50\n",
      "\u001b[1m337/337\u001b[0m \u001b[32m━━━━━━━━━━━━━━━━━━━━\u001b[0m\u001b[37m\u001b[0m \u001b[1m0s\u001b[0m 508us/step - accuracy: 0.9995 - loss: 0.0060 - val_accuracy: 0.9993 - val_loss: 0.0054\n",
      "Epoch 5/50\n",
      "\u001b[1m337/337\u001b[0m \u001b[32m━━━━━━━━━━━━━━━━━━━━\u001b[0m\u001b[37m\u001b[0m \u001b[1m0s\u001b[0m 489us/step - accuracy: 0.9991 - loss: 0.0043 - val_accuracy: 0.9993 - val_loss: 0.0051\n",
      "Epoch 6/50\n",
      "\u001b[1m337/337\u001b[0m \u001b[32m━━━━━━━━━━━━━━━━━━━━\u001b[0m\u001b[37m\u001b[0m \u001b[1m0s\u001b[0m 578us/step - accuracy: 0.9990 - loss: 0.0047 - val_accuracy: 0.9989 - val_loss: 0.0047\n",
      "Epoch 7/50\n",
      "\u001b[1m337/337\u001b[0m \u001b[32m━━━━━━━━━━━━━━━━━━━━\u001b[0m\u001b[37m\u001b[0m \u001b[1m0s\u001b[0m 463us/step - accuracy: 0.9991 - loss: 0.0033 - val_accuracy: 0.9996 - val_loss: 0.0023\n",
      "Epoch 8/50\n",
      "\u001b[1m337/337\u001b[0m \u001b[32m━━━━━━━━━━━━━━━━━━━━\u001b[0m\u001b[37m\u001b[0m \u001b[1m0s\u001b[0m 470us/step - accuracy: 0.9982 - loss: 0.0037 - val_accuracy: 0.9948 - val_loss: 0.0156\n",
      "Epoch 9/50\n",
      "\u001b[1m337/337\u001b[0m \u001b[32m━━━━━━━━━━━━━━━━━━━━\u001b[0m\u001b[37m\u001b[0m \u001b[1m0s\u001b[0m 462us/step - accuracy: 0.9994 - loss: 0.0023 - val_accuracy: 0.9996 - val_loss: 0.0025\n",
      "Epoch 10/50\n",
      "\u001b[1m337/337\u001b[0m \u001b[32m━━━━━━━━━━━━━━━━━━━━\u001b[0m\u001b[37m\u001b[0m \u001b[1m0s\u001b[0m 474us/step - accuracy: 0.9995 - loss: 0.0025 - val_accuracy: 0.9993 - val_loss: 0.0017\n",
      "Epoch 11/50\n",
      "\u001b[1m337/337\u001b[0m \u001b[32m━━━━━━━━━━━━━━━━━━━━\u001b[0m\u001b[37m\u001b[0m \u001b[1m0s\u001b[0m 464us/step - accuracy: 0.9998 - loss: 0.0012 - val_accuracy: 0.9989 - val_loss: 0.0028\n",
      "Epoch 12/50\n",
      "\u001b[1m337/337\u001b[0m \u001b[32m━━━━━━━━━━━━━━━━━━━━\u001b[0m\u001b[37m\u001b[0m \u001b[1m0s\u001b[0m 519us/step - accuracy: 0.9994 - loss: 0.0023 - val_accuracy: 0.9989 - val_loss: 0.0029\n",
      "Epoch 13/50\n",
      "\u001b[1m337/337\u001b[0m \u001b[32m━━━━━━━━━━━━━━━━━━━━\u001b[0m\u001b[37m\u001b[0m \u001b[1m0s\u001b[0m 499us/step - accuracy: 0.9989 - loss: 0.0024 - val_accuracy: 0.9974 - val_loss: 0.0050\n",
      "Epoch 14/50\n",
      "\u001b[1m337/337\u001b[0m \u001b[32m━━━━━━━━━━━━━━━━━━━━\u001b[0m\u001b[37m\u001b[0m \u001b[1m0s\u001b[0m 504us/step - accuracy: 0.9977 - loss: 0.0056 - val_accuracy: 0.9996 - val_loss: 9.2997e-04\n",
      "Epoch 15/50\n",
      "\u001b[1m337/337\u001b[0m \u001b[32m━━━━━━━━━━━━━━━━━━━━\u001b[0m\u001b[37m\u001b[0m \u001b[1m0s\u001b[0m 615us/step - accuracy: 0.9992 - loss: 0.0053 - val_accuracy: 1.0000 - val_loss: 6.8891e-04\n",
      "Epoch 16/50\n",
      "\u001b[1m337/337\u001b[0m \u001b[32m━━━━━━━━━━━━━━━━━━━━\u001b[0m\u001b[37m\u001b[0m \u001b[1m0s\u001b[0m 507us/step - accuracy: 1.0000 - loss: 6.3410e-04 - val_accuracy: 0.9989 - val_loss: 0.0030\n",
      "Epoch 17/50\n",
      "\u001b[1m337/337\u001b[0m \u001b[32m━━━━━━━━━━━━━━━━━━━━\u001b[0m\u001b[37m\u001b[0m \u001b[1m0s\u001b[0m 510us/step - accuracy: 0.9991 - loss: 0.0021 - val_accuracy: 1.0000 - val_loss: 6.8292e-04\n",
      "Epoch 18/50\n",
      "\u001b[1m337/337\u001b[0m \u001b[32m━━━━━━━━━━━━━━━━━━━━\u001b[0m\u001b[37m\u001b[0m \u001b[1m0s\u001b[0m 487us/step - accuracy: 0.9995 - loss: 0.0013 - val_accuracy: 0.9981 - val_loss: 0.0051\n",
      "Epoch 19/50\n",
      "\u001b[1m337/337\u001b[0m \u001b[32m━━━━━━━━━━━━━━━━━━━━\u001b[0m\u001b[37m\u001b[0m \u001b[1m0s\u001b[0m 468us/step - accuracy: 0.9999 - loss: 0.0014 - val_accuracy: 0.9993 - val_loss: 0.0020\n",
      "Epoch 20/50\n",
      "\u001b[1m337/337\u001b[0m \u001b[32m━━━━━━━━━━━━━━━━━━━━\u001b[0m\u001b[37m\u001b[0m \u001b[1m0s\u001b[0m 467us/step - accuracy: 0.9995 - loss: 0.0014 - val_accuracy: 1.0000 - val_loss: 7.2601e-04\n",
      "Epoch 21/50\n",
      "\u001b[1m337/337\u001b[0m \u001b[32m━━━━━━━━━━━━━━━━━━━━\u001b[0m\u001b[37m\u001b[0m \u001b[1m0s\u001b[0m 520us/step - accuracy: 0.9999 - loss: 4.4857e-04 - val_accuracy: 0.9978 - val_loss: 0.0052\n",
      "Epoch 22/50\n",
      "\u001b[1m337/337\u001b[0m \u001b[32m━━━━━━━━━━━━━━━━━━━━\u001b[0m\u001b[37m\u001b[0m \u001b[1m0s\u001b[0m 498us/step - accuracy: 0.9992 - loss: 0.0028 - val_accuracy: 0.9996 - val_loss: 0.0013\n",
      "Epoch 23/50\n",
      "\u001b[1m337/337\u001b[0m \u001b[32m━━━━━━━━━━━━━━━━━━━━\u001b[0m\u001b[37m\u001b[0m \u001b[1m0s\u001b[0m 571us/step - accuracy: 0.9990 - loss: 0.0024 - val_accuracy: 1.0000 - val_loss: 6.0644e-04\n",
      "Epoch 24/50\n",
      "\u001b[1m337/337\u001b[0m \u001b[32m━━━━━━━━━━━━━━━━━━━━\u001b[0m\u001b[37m\u001b[0m \u001b[1m0s\u001b[0m 504us/step - accuracy: 0.9999 - loss: 4.1569e-04 - val_accuracy: 1.0000 - val_loss: 3.7940e-04\n",
      "Epoch 25/50\n",
      "\u001b[1m337/337\u001b[0m \u001b[32m━━━━━━━━━━━━━━━━━━━━\u001b[0m\u001b[37m\u001b[0m \u001b[1m0s\u001b[0m 484us/step - accuracy: 0.9997 - loss: 0.0012 - val_accuracy: 1.0000 - val_loss: 4.3892e-04\n",
      "Epoch 26/50\n",
      "\u001b[1m337/337\u001b[0m \u001b[32m━━━━━━━━━━━━━━━━━━━━\u001b[0m\u001b[37m\u001b[0m \u001b[1m0s\u001b[0m 468us/step - accuracy: 0.9999 - loss: 4.8080e-04 - val_accuracy: 1.0000 - val_loss: 4.5479e-04\n",
      "Epoch 27/50\n",
      "\u001b[1m337/337\u001b[0m \u001b[32m━━━━━━━━━━━━━━━━━━━━\u001b[0m\u001b[37m\u001b[0m \u001b[1m0s\u001b[0m 542us/step - accuracy: 0.9998 - loss: 8.8021e-04 - val_accuracy: 0.9978 - val_loss: 0.0043\n",
      "Epoch 28/50\n",
      "\u001b[1m337/337\u001b[0m \u001b[32m━━━━━━━━━━━━━━━━━━━━\u001b[0m\u001b[37m\u001b[0m \u001b[1m0s\u001b[0m 512us/step - accuracy: 0.9987 - loss: 0.0024 - val_accuracy: 0.9981 - val_loss: 0.0058\n",
      "Epoch 29/50\n",
      "\u001b[1m337/337\u001b[0m \u001b[32m━━━━━━━━━━━━━━━━━━━━\u001b[0m\u001b[37m\u001b[0m \u001b[1m0s\u001b[0m 492us/step - accuracy: 0.9992 - loss: 0.0026 - val_accuracy: 0.9993 - val_loss: 0.0016\n",
      "Epoch 30/50\n",
      "\u001b[1m337/337\u001b[0m \u001b[32m━━━━━━━━━━━━━━━━━━━━\u001b[0m\u001b[37m\u001b[0m \u001b[1m0s\u001b[0m 474us/step - accuracy: 0.9993 - loss: 0.0013 - val_accuracy: 0.9996 - val_loss: 0.0011\n",
      "Epoch 31/50\n",
      "\u001b[1m337/337\u001b[0m \u001b[32m━━━━━━━━━━━━━━━━━━━━\u001b[0m\u001b[37m\u001b[0m \u001b[1m0s\u001b[0m 471us/step - accuracy: 1.0000 - loss: 4.1005e-04 - val_accuracy: 1.0000 - val_loss: 6.7424e-04\n",
      "Epoch 32/50\n",
      "\u001b[1m337/337\u001b[0m \u001b[32m━━━━━━━━━━━━━━━━━━━━\u001b[0m\u001b[37m\u001b[0m \u001b[1m0s\u001b[0m 483us/step - accuracy: 0.9999 - loss: 6.8603e-04 - val_accuracy: 1.0000 - val_loss: 3.4333e-04\n",
      "Epoch 33/50\n",
      "\u001b[1m337/337\u001b[0m \u001b[32m━━━━━━━━━━━━━━━━━━━━\u001b[0m\u001b[37m\u001b[0m \u001b[1m0s\u001b[0m 470us/step - accuracy: 0.9999 - loss: 3.6546e-04 - val_accuracy: 0.9989 - val_loss: 0.0031\n",
      "Epoch 34/50\n",
      "\u001b[1m337/337\u001b[0m \u001b[32m━━━━━━━━━━━━━━━━━━━━\u001b[0m\u001b[37m\u001b[0m \u001b[1m0s\u001b[0m 469us/step - accuracy: 0.9999 - loss: 5.4511e-04 - val_accuracy: 0.9996 - val_loss: 0.0010\n",
      "Epoch 35/50\n",
      "\u001b[1m337/337\u001b[0m \u001b[32m━━━━━━━━━━━━━━━━━━━━\u001b[0m\u001b[37m\u001b[0m \u001b[1m0s\u001b[0m 479us/step - accuracy: 0.9991 - loss: 0.0026 - val_accuracy: 0.9981 - val_loss: 0.0041\n",
      "Epoch 36/50\n",
      "\u001b[1m337/337\u001b[0m \u001b[32m━━━━━━━━━━━━━━━━━━━━\u001b[0m\u001b[37m\u001b[0m \u001b[1m0s\u001b[0m 468us/step - accuracy: 0.9994 - loss: 0.0014 - val_accuracy: 1.0000 - val_loss: 5.7983e-04\n",
      "Epoch 37/50\n",
      "\u001b[1m337/337\u001b[0m \u001b[32m━━━━━━━━━━━━━━━━━━━━\u001b[0m\u001b[37m\u001b[0m \u001b[1m0s\u001b[0m 522us/step - accuracy: 1.0000 - loss: 2.0933e-04 - val_accuracy: 0.9996 - val_loss: 0.0011\n",
      "Epoch 38/50\n",
      "\u001b[1m337/337\u001b[0m \u001b[32m━━━━━━━━━━━━━━━━━━━━\u001b[0m\u001b[37m\u001b[0m \u001b[1m0s\u001b[0m 509us/step - accuracy: 1.0000 - loss: 1.3983e-04 - val_accuracy: 1.0000 - val_loss: 3.6077e-04\n",
      "Epoch 39/50\n",
      "\u001b[1m337/337\u001b[0m \u001b[32m━━━━━━━━━━━━━━━━━━━━\u001b[0m\u001b[37m\u001b[0m \u001b[1m0s\u001b[0m 573us/step - accuracy: 1.0000 - loss: 8.6500e-05 - val_accuracy: 0.9989 - val_loss: 0.0019\n",
      "Epoch 40/50\n",
      "\u001b[1m337/337\u001b[0m \u001b[32m━━━━━━━━━━━━━━━━━━━━\u001b[0m\u001b[37m\u001b[0m \u001b[1m0s\u001b[0m 493us/step - accuracy: 0.9988 - loss: 0.0037 - val_accuracy: 0.9978 - val_loss: 0.0043\n",
      "Epoch 41/50\n",
      "\u001b[1m337/337\u001b[0m \u001b[32m━━━━━━━━━━━━━━━━━━━━\u001b[0m\u001b[37m\u001b[0m \u001b[1m0s\u001b[0m 502us/step - accuracy: 0.9992 - loss: 0.0018 - val_accuracy: 0.9959 - val_loss: 0.0094\n",
      "Epoch 42/50\n",
      "\u001b[1m337/337\u001b[0m \u001b[32m━━━━━━━━━━━━━━━━━━━━\u001b[0m\u001b[37m\u001b[0m \u001b[1m0s\u001b[0m 511us/step - accuracy: 1.0000 - loss: 1.8270e-04 - val_accuracy: 0.9993 - val_loss: 7.0216e-04\n",
      "Epoch 43/50\n",
      "\u001b[1m337/337\u001b[0m \u001b[32m━━━━━━━━━━━━━━━━━━━━\u001b[0m\u001b[37m\u001b[0m \u001b[1m0s\u001b[0m 500us/step - accuracy: 1.0000 - loss: 1.2706e-04 - val_accuracy: 1.0000 - val_loss: 3.3076e-04\n",
      "Epoch 44/50\n",
      "\u001b[1m337/337\u001b[0m \u001b[32m━━━━━━━━━━━━━━━━━━━━\u001b[0m\u001b[37m\u001b[0m \u001b[1m0s\u001b[0m 473us/step - accuracy: 1.0000 - loss: 9.3484e-05 - val_accuracy: 0.9993 - val_loss: 0.0010\n",
      "Epoch 45/50\n",
      "\u001b[1m337/337\u001b[0m \u001b[32m━━━━━━━━━━━━━━━━━━━━\u001b[0m\u001b[37m\u001b[0m \u001b[1m0s\u001b[0m 471us/step - accuracy: 1.0000 - loss: 1.2682e-04 - val_accuracy: 0.9996 - val_loss: 6.1702e-04\n",
      "Epoch 46/50\n",
      "\u001b[1m337/337\u001b[0m \u001b[32m━━━━━━━━━━━━━━━━━━━━\u001b[0m\u001b[37m\u001b[0m \u001b[1m0s\u001b[0m 589us/step - accuracy: 1.0000 - loss: 1.0350e-04 - val_accuracy: 0.9996 - val_loss: 4.7328e-04\n",
      "Epoch 47/50\n",
      "\u001b[1m337/337\u001b[0m \u001b[32m━━━━━━━━━━━━━━━━━━━━\u001b[0m\u001b[37m\u001b[0m \u001b[1m0s\u001b[0m 473us/step - accuracy: 1.0000 - loss: 7.4326e-05 - val_accuracy: 1.0000 - val_loss: 3.4026e-04\n",
      "Epoch 48/50\n",
      "\u001b[1m337/337\u001b[0m \u001b[32m━━━━━━━━━━━━━━━━━━━━\u001b[0m\u001b[37m\u001b[0m \u001b[1m0s\u001b[0m 465us/step - accuracy: 1.0000 - loss: 7.4036e-05 - val_accuracy: 1.0000 - val_loss: 2.6582e-04\n",
      "Epoch 49/50\n",
      "\u001b[1m337/337\u001b[0m \u001b[32m━━━━━━━━━━━━━━━━━━━━\u001b[0m\u001b[37m\u001b[0m \u001b[1m0s\u001b[0m 476us/step - accuracy: 1.0000 - loss: 1.0925e-04 - val_accuracy: 0.9967 - val_loss: 0.0184\n",
      "Epoch 50/50\n",
      "\u001b[1m337/337\u001b[0m \u001b[32m━━━━━━━━━━━━━━━━━━━━\u001b[0m\u001b[37m\u001b[0m \u001b[1m0s\u001b[0m 499us/step - accuracy: 0.9987 - loss: 0.0049 - val_accuracy: 0.9996 - val_loss: 6.7556e-04\n"
     ]
    }
   ],
   "source": [
    "history = model.fit(X_train, y_train, epochs=50, batch_size=32, validation_split=0.2)"
   ]
  },
  {
   "cell_type": "code",
   "execution_count": 124,
   "id": "0861e099-e3ce-4650-a889-8371f60edf43",
   "metadata": {},
   "outputs": [
    {
     "name": "stdout",
     "output_type": "stream",
     "text": [
      "\u001b[1m106/106\u001b[0m \u001b[32m━━━━━━━━━━━━━━━━━━━━\u001b[0m\u001b[37m\u001b[0m \u001b[1m0s\u001b[0m 343us/step - accuracy: 0.9994 - loss: 0.0014   \n"
     ]
    }
   ],
   "source": [
    "test_loss, test_acc = model.evaluate(X_test, y_test)"
   ]
  },
  {
   "cell_type": "code",
   "execution_count": 126,
   "id": "53f897ed-184c-4859-a0ae-efb36b0faecb",
   "metadata": {},
   "outputs": [
    {
     "name": "stdout",
     "output_type": "stream",
     "text": [
      "The test accuracy is 0.9997029304504395\n"
     ]
    }
   ],
   "source": [
    "print(f\"The test accuracy is {test_acc}\")"
   ]
  },
  {
   "cell_type": "code",
   "execution_count": 128,
   "id": "79f79b8d-8599-420e-b0e9-30696cc1b781",
   "metadata": {},
   "outputs": [
    {
     "name": "stdout",
     "output_type": "stream",
     "text": [
      "\u001b[1m106/106\u001b[0m \u001b[32m━━━━━━━━━━━━━━━━━━━━\u001b[0m\u001b[37m\u001b[0m \u001b[1m0s\u001b[0m 385us/step\n",
      "              precision    recall  f1-score   support\n",
      "\n",
      "          3G       1.00      1.00      1.00       842\n",
      "          4G       1.00      1.00      1.00       823\n",
      "          5G       1.00      1.00      1.00       853\n",
      "         LTE       1.00      1.00      1.00       848\n",
      "\n",
      "    accuracy                           1.00      3366\n",
      "   macro avg       1.00      1.00      1.00      3366\n",
      "weighted avg       1.00      1.00      1.00      3366\n",
      "\n"
     ]
    }
   ],
   "source": [
    "y_pred = model.predict(X_test)\n",
    "y_pred_classes = np.argmax(y_pred, axis=1)\n",
    "y_test_classes = np.argmax(y_test, axis=1)\n",
    "\n",
    "print(classification_report(y_test_classes, y_pred_classes, target_names=encoder.categories_[0]))"
   ]
  },
  {
   "cell_type": "code",
   "execution_count": 152,
   "id": "954077ad-8d83-408e-8e8f-e8cb6e769a57",
   "metadata": {},
   "outputs": [
    {
     "data": {
      "text/plain": [
       "(9,)"
      ]
     },
     "execution_count": 152,
     "metadata": {},
     "output_type": "execute_result"
    }
   ],
   "source": [
    "X_test[0].shape"
   ]
  },
  {
   "cell_type": "code",
   "execution_count": 154,
   "id": "f4dfa2d7-1112-4920-998f-25b373446f0c",
   "metadata": {},
   "outputs": [
    {
     "data": {
      "text/plain": [
       "(1, 9)"
      ]
     },
     "execution_count": 154,
     "metadata": {},
     "output_type": "execute_result"
    }
   ],
   "source": [
    "X_test[0].reshape(1,-1).shape"
   ]
  },
  {
   "cell_type": "code",
   "execution_count": 156,
   "id": "dac18b91-5487-435d-8d3c-a398aac5396e",
   "metadata": {},
   "outputs": [
    {
     "data": {
      "text/plain": [
       "array([ 1.46291181, -0.63999844,  0.29480987,  0.        ,  1.67713096,\n",
       "       -1.49864827, -0.59693856, -0.4975174 , -0.44737676])"
      ]
     },
     "execution_count": 156,
     "metadata": {},
     "output_type": "execute_result"
    }
   ],
   "source": [
    "X_test[0]"
   ]
  },
  {
   "cell_type": "code",
   "execution_count": 186,
   "id": "0acccf86-d24a-4d79-af64-046e0a6115ce",
   "metadata": {},
   "outputs": [
    {
     "data": {
      "text/plain": [
       "array([0., 0., 1., 0.])"
      ]
     },
     "execution_count": 186,
     "metadata": {},
     "output_type": "execute_result"
    }
   ],
   "source": [
    "y_test[0]"
   ]
  },
  {
   "cell_type": "code",
   "execution_count": 202,
   "id": "4870657b-91ac-4694-a854-914b8bd73aeb",
   "metadata": {},
   "outputs": [
    {
     "name": "stdout",
     "output_type": "stream",
     "text": [
      "\u001b[1m1/1\u001b[0m \u001b[32m━━━━━━━━━━━━━━━━━━━━\u001b[0m\u001b[37m\u001b[0m \u001b[1m0s\u001b[0m 8ms/step\n"
     ]
    }
   ],
   "source": [
    "prediction = model.predict(X_test[3].reshape(1,-1))"
   ]
  },
  {
   "cell_type": "code",
   "execution_count": 204,
   "id": "7dbcbf51-35cc-489f-84c5-0b823015411f",
   "metadata": {},
   "outputs": [],
   "source": [
    "predicted_class = np.argmax(prediction, axis=1)[0]\n",
    "actual_class = np.argmax(y_test[3])"
   ]
  },
  {
   "cell_type": "code",
   "execution_count": 206,
   "id": "abf315aa-def2-4636-9aae-0296a68f4450",
   "metadata": {},
   "outputs": [],
   "source": [
    "network_types = [\"3G\", \"4G\", \"5G\", \"LTE\"]"
   ]
  },
  {
   "cell_type": "code",
   "execution_count": 208,
   "id": "46d758a5-1521-4e46-87e9-a4a7cf14d82d",
   "metadata": {},
   "outputs": [
    {
     "data": {
      "text/plain": [
       "'3G'"
      ]
     },
     "execution_count": 208,
     "metadata": {},
     "output_type": "execute_result"
    }
   ],
   "source": [
    "network_types[predicted_class]"
   ]
  },
  {
   "cell_type": "code",
   "execution_count": 210,
   "id": "60c5bcc9-23c5-41ea-b0c3-4bcbbeab2c3f",
   "metadata": {},
   "outputs": [
    {
     "data": {
      "text/plain": [
       "'3G'"
      ]
     },
     "execution_count": 210,
     "metadata": {},
     "output_type": "execute_result"
    }
   ],
   "source": [
    "network_types[actual_class]"
   ]
  },
  {
   "cell_type": "code",
   "execution_count": null,
   "id": "e7065987-5494-4e57-818f-7351c877c117",
   "metadata": {},
   "outputs": [],
   "source": [
    "#it works!"
   ]
  }
 ],
 "metadata": {
  "kernelspec": {
   "display_name": "Python 3 (ipykernel)",
   "language": "python",
   "name": "python3"
  },
  "language_info": {
   "codemirror_mode": {
    "name": "ipython",
    "version": 3
   },
   "file_extension": ".py",
   "mimetype": "text/x-python",
   "name": "python",
   "nbconvert_exporter": "python",
   "pygments_lexer": "ipython3",
   "version": "3.11.7"
  }
 },
 "nbformat": 4,
 "nbformat_minor": 5
}
